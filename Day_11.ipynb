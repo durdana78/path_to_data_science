{
 "cells": [
  {
   "cell_type": "code",
   "execution_count": null,
   "metadata": {},
   "outputs": [],
   "source": [
    "'''🔹 PART 1  Advanced Filtering & Conditions\n",
    " 1  Filter passengers with:\n",
    "Age between 18 and 40\n",
    "Fare > median fare\n",
    "Gender = female\n",
    "\n",
    " 2  Select passengers who:\n",
    "Are NOT in 3rd class\n",
    "Survived\n",
    "Embarked from \"S\"\n",
    "\n",
    " 3  Count how many passengers match these filters\n",
    "\n",
    "🔹 PART 2  GroupBy Tricks\n",
    " 4  Group by Pclass and Gender and calculate:\n",
    "Average Age\n",
    "Survival Rate (hint: .mean() on \"Survived\")\n",
    " 5  Find the class with the highest fare variance\n",
    " 6  Use .agg() to calculate multiple stats:\n",
    "For Fare: min, max, mean, std grouped by Embarked\n",
    "\n",
    "🔹 PART 3  Pivot Tables & Custom Columns\n",
    " 7  Create a pivot table:\n",
    "Rows → Pclass\n",
    "Columns → Gender\n",
    "Values → Mean Fare\n",
    "\n",
    " 8  Create a new column \"FareLevel\":\n",
    "If Fare < 10 → \"Low\"\n",
    "If Fare between 1050 → \"Medium\"\n",
    "If Fare > 50 → \"High\"\n",
    "\n",
    " 9  Use .apply() to label \"AgeGroup\" as:\n",
    "012 → Child\n",
    "1319 → Teen\n",
    "2059 → Adult\n",
    "60+ → Senior\n",
    "\n",
    " 10  Create a summary table:\n",
    "Count of each AgeGroup by Gender and Survival status'''"
   ]
  },
  {
   "cell_type": "code",
   "execution_count": 1,
   "metadata": {},
   "outputs": [],
   "source": [
    "import pandas as pd\n",
    "url = 'https://raw.githubusercontent.com/datasciencedojo/datasets/master/titanic.csv'\n",
    "df = pd.read_csv(url)"
   ]
  },
  {
   "cell_type": "code",
   "execution_count": null,
   "metadata": {},
   "outputs": [],
   "source": [
    "median_fare = df['Fare'].median()\n",
    "mask = (df['Age'] < 41) & (df['Age'] > 17) & (df['Fare'] > median_fare) & (df['Sex'] == 'female')\n",
    "filtered_df = df[mask]\n",
    "#print(filtered_df.sample(n = 5))\n",
    "print(filtered_df['PassengerId'].count())"
   ]
  },
  {
   "cell_type": "code",
   "execution_count": null,
   "metadata": {},
   "outputs": [],
   "source": [
    "mask = (df['Pclass'] != 3) & (df['Survived'] == 1) & (df['Embarked'] == 'S')\n",
    "selected_passengers = df[mask]\n",
    "#print(selected_passengers.sample(n = 5))\n",
    "print(selected_passengers['PassengerId'].count())"
   ]
  },
  {
   "cell_type": "code",
   "execution_count": null,
   "metadata": {},
   "outputs": [],
   "source": [
    "df = df.rename(columns = {'Sex' : 'Gender'})\n",
    "avg_age = df.groupby(['Pclass','Gender'])['Age'].mean()\n",
    "surviv_rate = df.groupby(['Pclass','Gender'])['Survived'].mean()\n",
    "print(avg_age, surviv_rate)"
   ]
  },
  {
   "cell_type": "code",
   "execution_count": null,
   "metadata": {},
   "outputs": [],
   "source": [
    "fare_var_by_class = df.groupby('Pclass')['Fare'].var()\n",
    "class_indx = fare_var_by_class.idxmax()\n",
    "print(class_indx)"
   ]
  },
  {
   "cell_type": "code",
   "execution_count": null,
   "metadata": {},
   "outputs": [],
   "source": [
    "fare_stats = df.groupby('Embarked')['Fare'].agg(\n",
    "    min_fare = 'min',\n",
    "    max_fare = 'max',\n",
    "    mean_fare = 'mean',\n",
    "    std_fare = 'std'\n",
    ")\n",
    "print(fare_stats)"
   ]
  },
  {
   "cell_type": "code",
   "execution_count": null,
   "metadata": {},
   "outputs": [],
   "source": [
    "pivot_class_gender = df.pivot_table(values = 'Fare', index = 'Pclass', columns = 'Gender', aggfunc = 'mean')\n",
    "print(pivot_class_gender)"
   ]
  },
  {
   "cell_type": "code",
   "execution_count": null,
   "metadata": {},
   "outputs": [],
   "source": [
    "import numpy as np\n",
    "conditions = [\n",
    "    df['Fare'] < 10,\n",
    "    (df['Fare'] >= 10) & (df['Fare'] <= 50),\n",
    "    df['Fare'] > 50\n",
    "]\n",
    "choices = ['Low','Medium','High']\n",
    "df['FareLevel'] = np.select(conditions,choices,default = 'Unknown')\n",
    "print(df['FareLevel'].sample(n = 5))"
   ]
  },
  {
   "cell_type": "code",
   "execution_count": null,
   "metadata": {},
   "outputs": [],
   "source": [
    "df['AgeGroup'] = df['Age'].apply(lambda age : 'Child' if age < 13 else\n",
    "                                        'Unknown'if age == pd.isna(age) else\n",
    "                                        'Teen' if age < 20 else\n",
    "                                        'Adult' if age < 60 else\n",
    "                                        'Senior')\n",
    "print(df['AgeGroup'].head())"
   ]
  },
  {
   "cell_type": "code",
   "execution_count": 26,
   "metadata": {},
   "outputs": [
    {
     "name": "stdout",
     "output_type": "stream",
     "text": [
      "Survived           0    1\n",
      "AgeGroup Gender          \n",
      "Adult    female   42  140\n",
      "         male    278   64\n",
      "Child    female   13   19\n",
      "         male     16   21\n",
      "Senior   female   17   40\n",
      "         male    127   19\n",
      "Teen     female    9   34\n",
      "         male     47    5\n"
     ]
    }
   ],
   "source": [
    "table_group = df.groupby(['AgeGroup','Gender','Survived']).size().unstack(fill_value = 0)\n",
    "print(table_group)"
   ]
  }
 ],
 "metadata": {
  "kernelspec": {
   "display_name": "Python 3",
   "language": "python",
   "name": "python3"
  },
  "language_info": {
   "codemirror_mode": {
    "name": "ipython",
    "version": 3
   },
   "file_extension": ".py",
   "mimetype": "text/x-python",
   "name": "python",
   "nbconvert_exporter": "python",
   "pygments_lexer": "ipython3",
   "version": "3.10.11"
  }
 },
 "nbformat": 4,
 "nbformat_minor": 2
}
