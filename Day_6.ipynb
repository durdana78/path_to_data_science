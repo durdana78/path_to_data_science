{
 "cells": [
  {
   "cell_type": "code",
   "execution_count": null,
   "metadata": {},
   "outputs": [],
   "source": [
    "\"\"\" Block 1: DataFrame Basics\n",
    "Focus: Load, explore, access columns/rows\n",
    "\n",
    " 1  Load Titanic dataset from CSV\n",
    " 2  Print shape, columns, .head(), .tail()\n",
    " 3  Access “Age” column\n",
    " 4  Filter rows where Age > 30\n",
    " 5  Count how many males survived\n",
    " 6  Drop the “Cabin” column\n",
    " 7  Rename column “Sex” to “Gender”\n",
    " 8  Create new column: Age squared\n",
    " 9  Sort by Fare descending\n",
    " 10  Get top 5 youngest survivors \"\"\""
   ]
  },
  {
   "cell_type": "code",
   "execution_count": null,
   "metadata": {},
   "outputs": [],
   "source": [
    "import pandas as pd\n",
    "url = 'https://raw.githubusercontent.com/datasciencedojo/datasets/master/titanic.csv'\n",
    "df = pd.read_csv(url)\n",
    "print(df.head())"
   ]
  },
  {
   "cell_type": "code",
   "execution_count": null,
   "metadata": {},
   "outputs": [],
   "source": [
    "ages = df['Age']\n",
    "print(ages.head())"
   ]
  },
  {
   "cell_type": "code",
   "execution_count": null,
   "metadata": {},
   "outputs": [],
   "source": [
    "print('shape of the dataset:', df.shape)\n",
    "print('column names:', df.columns)\n",
    "print('the first 5 rows of the dataset:', df.head())\n",
    "print('the last 5 rows of the dataset:', df.tail())"
   ]
  },
  {
   "cell_type": "code",
   "execution_count": null,
   "metadata": {},
   "outputs": [],
   "source": [
    "filtered_data = df[df['Age'] > 30]\n",
    "print(filtered_data.head())"
   ]
  },
  {
   "cell_type": "code",
   "execution_count": null,
   "metadata": {},
   "outputs": [],
   "source": [
    "survived = df[(df['Survived'] == 1) & (df['Sex'] == 'male')]\n",
    "print(survived.shape[0])\n"
   ]
  },
  {
   "cell_type": "code",
   "execution_count": null,
   "metadata": {},
   "outputs": [],
   "source": [
    "cabin_removed = df.drop('Cabin', axis = 1)\n",
    "print(cabin_removed.head()) "
   ]
  },
  {
   "cell_type": "code",
   "execution_count": null,
   "metadata": {},
   "outputs": [],
   "source": [
    "df = df.rename(columns = {'Sex' : 'Gender'})\n",
    "print(df.columns)"
   ]
  },
  {
   "cell_type": "code",
   "execution_count": null,
   "metadata": {},
   "outputs": [],
   "source": [
    "df['Age_squared'] = df['Age'] ** 2\n",
    "print(df['Age_squared'].head())"
   ]
  },
  {
   "cell_type": "code",
   "execution_count": null,
   "metadata": {},
   "outputs": [],
   "source": [
    "sorted = df.sort_values(by = 'Fare', ascending = False)\n",
    "print(sorted.head())"
   ]
  },
  {
   "cell_type": "code",
   "execution_count": null,
   "metadata": {},
   "outputs": [],
   "source": [
    "sorted_by_age = df.sort_values(by = 'Age')\n",
    "print(sorted_by_age.head())"
   ]
  }
 ],
 "metadata": {
  "kernelspec": {
   "display_name": "Python 3",
   "language": "python",
   "name": "python3"
  },
  "language_info": {
   "codemirror_mode": {
    "name": "ipython",
    "version": 3
   },
   "file_extension": ".py",
   "mimetype": "text/x-python",
   "name": "python",
   "nbconvert_exporter": "python",
   "pygments_lexer": "ipython3",
   "version": "3.10.11"
  }
 },
 "nbformat": 4,
 "nbformat_minor": 2
}
