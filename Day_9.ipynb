{
 "cells": [
  {
   "cell_type": "code",
   "execution_count": null,
   "metadata": {},
   "outputs": [],
   "source": [
    "\"\"\"🔹 Block 2: Cleaning & Grouping\n",
    "Focus: Handle nulls, groupby, aggregation\n",
    "\n",
    " 1  Count missing values per column\n",
    " 2  Fill Age nulls with median\n",
    " 3  Drop rows with any missing value\n",
    " 4  Group by “Pclass” and get average Fare\n",
    " 5  Group by Gender and count Survived\n",
    " 6  Find mean Age by Pclass and Gender (multi-group)\n",
    " 7  Filter: age > 18 and Pclass == 1\n",
    " 8  Get .value_counts() of Embarked\n",
    " 9  Create a column “Is_Child” = Age < 12\n",
    " 10  Compare survival rate of children vs adults\"\"\""
   ]
  },
  {
   "cell_type": "code",
   "execution_count": 12,
   "metadata": {},
   "outputs": [],
   "source": [
    "import pandas as pd\n",
    "url = 'https://raw.githubusercontent.com/datasciencedojo/datasets/master/titanic.csv'\n",
    "df = pd.read_csv(url)"
   ]
  },
  {
   "cell_type": "code",
   "execution_count": null,
   "metadata": {},
   "outputs": [],
   "source": [
    "missing_values = df.isna().sum()\n",
    "print(missing_values)\n"
   ]
  },
  {
   "cell_type": "code",
   "execution_count": null,
   "metadata": {},
   "outputs": [],
   "source": [
    "age = df['Age']\n",
    "median = age.median()\n",
    "age = age.fillna(median)\n",
    "print(age.head())\n"
   ]
  },
  {
   "cell_type": "code",
   "execution_count": null,
   "metadata": {},
   "outputs": [],
   "source": [
    "removed_null = df.dropna()\n",
    "print(removed_null)"
   ]
  },
  {
   "cell_type": "code",
   "execution_count": null,
   "metadata": {},
   "outputs": [],
   "source": [
    "average_fare = df.groupby('Pclass')['Fare'].mean()\n",
    "print(average_fare)"
   ]
  },
  {
   "cell_type": "code",
   "execution_count": null,
   "metadata": {},
   "outputs": [],
   "source": [
    "survived_by_gender = df.groupby('Sex')['Survived'].sum()\n",
    "print('The number of people who survived by gender: \\n',survived_by_gender,'\\n')\n",
    "people = df.groupby('Sex')['Survived'].count()\n",
    "didnt_survive_by_gender = people - survived_by_gender\n",
    "print(\"The number of people who couldn't survive by gender: \\n\",didnt_survive_by_gender)"
   ]
  },
  {
   "cell_type": "code",
   "execution_count": null,
   "metadata": {},
   "outputs": [],
   "source": [
    "age_mean = df.groupby(['Pclass','Sex'])['Age'].mean()\n",
    "print(age_mean)"
   ]
  },
  {
   "cell_type": "code",
   "execution_count": null,
   "metadata": {},
   "outputs": [],
   "source": [
    "mask = (df['Age'] > 18) & (df['Pclass'] == 1)\n",
    "filtered_df = df[mask]\n",
    "print(filtered_df)"
   ]
  },
  {
   "cell_type": "code",
   "execution_count": null,
   "metadata": {},
   "outputs": [],
   "source": [
    "embarked_values = df.value_counts('Embarked')\n",
    "print(embarked_values)"
   ]
  },
  {
   "cell_type": "code",
   "execution_count": null,
   "metadata": {},
   "outputs": [],
   "source": [
    "df['Is_child'] = df['Age'] < 12\n",
    "df['Is_child'] = df['Is_child'].astype(int)\n",
    "print(df['Is_child'].sample(n = 10))"
   ]
  },
  {
   "cell_type": "code",
   "execution_count": null,
   "metadata": {},
   "outputs": [],
   "source": [
    "survival_rate = df.groupby('Is_child')['Survived'].mean() * 100\n",
    "print(survival_rate)"
   ]
  }
 ],
 "metadata": {
  "kernelspec": {
   "display_name": "Python 3",
   "language": "python",
   "name": "python3"
  },
  "language_info": {
   "codemirror_mode": {
    "name": "ipython",
    "version": 3
   },
   "file_extension": ".py",
   "mimetype": "text/x-python",
   "name": "python",
   "nbconvert_exporter": "python",
   "pygments_lexer": "ipython3",
   "version": "3.10.11"
  }
 },
 "nbformat": 4,
 "nbformat_minor": 2
}
