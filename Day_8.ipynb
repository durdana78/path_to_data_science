{
 "cells": [
  {
   "cell_type": "code",
   "execution_count": null,
   "metadata": {},
   "outputs": [],
   "source": [
    "\"\"\"🔹 Block 2: Cleaning & Grouping\n",
    "Focus: Handle nulls, groupby, aggregation\n",
    "\n",
    " 1  Count missing values per column\n",
    " 2  Fill Age nulls with median\n",
    " 3  Drop rows with any missing value\n",
    " 4  Group by “Pclass” and get average Fare\n",
    " 5  Group by Gender and count Survived\n",
    " 6  Find mean Age by Pclass and Gender (multi-group)\n",
    " 7  Filter: age > 18 and Pclass == 1\n",
    " 8  Get .value_counts() of Embarked\n",
    " 9  Create a column “Is_Child” = Age < 12\n",
    " 10  Compare survival rate of children vs adults\"\"\""
   ]
  },
  {
   "cell_type": "code",
   "execution_count": 3,
   "metadata": {},
   "outputs": [],
   "source": [
    "import pandas as pd\n",
    "url = 'https://raw.githubusercontent.com/datasciencedojo/datasets/master/titanic.csv'\n",
    "df = pd.read_csv(url)"
   ]
  },
  {
   "cell_type": "code",
   "execution_count": null,
   "metadata": {},
   "outputs": [],
   "source": [
    "print(\"The missing rows:\", df.isna().sum())"
   ]
  },
  {
   "cell_type": "code",
   "execution_count": null,
   "metadata": {},
   "outputs": [],
   "source": [
    "age_column = df['Age']\n",
    "median = age_column.median()\n",
    "print(age_column)\n",
    "age_column = age_column.fillna(median)\n",
    "print('After the filling: \\n',age_column)"
   ]
  },
  {
   "cell_type": "code",
   "execution_count": null,
   "metadata": {},
   "outputs": [],
   "source": [
    "cleaned_df = df.dropna()\n",
    "print(cleaned_df)"
   ]
  },
  {
   "cell_type": "code",
   "execution_count": null,
   "metadata": {},
   "outputs": [],
   "source": [
    "group_mean = df.groupby('Pclass')['Fare'].mean()\n",
    "print(group_mean)"
   ]
  },
  {
   "cell_type": "code",
   "execution_count": null,
   "metadata": {},
   "outputs": [],
   "source": [
    "survived = df['Survived'] == 1\n",
    "survived_by_gender = df[survived].groupby('Sex')['Survived'].count()\n",
    "print(survived_by_gender)"
   ]
  },
  {
   "cell_type": "code",
   "execution_count": null,
   "metadata": {},
   "outputs": [],
   "source": [
    "mean_age_gender = df.groupby(['Pclass','Sex'])[['Age']].mean()\n",
    "print(mean_age_gender)\n"
   ]
  },
  {
   "cell_type": "code",
   "execution_count": null,
   "metadata": {},
   "outputs": [],
   "source": [
    "mask = (df['Age'] > 18) & (df['Pclass'] == 1)\n",
    "filtered_df = df[mask]\n",
    "print(filtered_df.sample(n = 5))"
   ]
  },
  {
   "cell_type": "code",
   "execution_count": null,
   "metadata": {},
   "outputs": [],
   "source": [
    "embarked_df = df['Embarked'].value_counts()\n",
    "print(\"Values count:\",embarked_df,'\\n' )\n",
    "embarked_df = df['Embarked'].value_counts(dropna = False)\n",
    "print(\"Values count with null values:\",embarked_df,'\\n' )\n",
    "embarked_df = df['Embarked'].value_counts(normalize = True) * 100\n",
    "print(\"Values count with in percentages:\",embarked_df )\n",
    "\n"
   ]
  },
  {
   "cell_type": "code",
   "execution_count": null,
   "metadata": {},
   "outputs": [],
   "source": [
    "df['Is_child'] = df['Age'] < 12\n",
    "df['Is_child'] = df['Is_child'].astype(int)\n",
    "print(df['Is_child'].head())"
   ]
  },
  {
   "cell_type": "code",
   "execution_count": 39,
   "metadata": {},
   "outputs": [
    {
     "name": "stdout",
     "output_type": "stream",
     "text": [
      "Is_child\n",
      "0    36.816525\n",
      "1    57.352941\n",
      "Name: Survived, dtype: float64\n"
     ]
    }
   ],
   "source": [
    "sorted_df = df.groupby('Is_child')['Survived'].mean() * 100\n",
    "print(sorted_df)\n"
   ]
  }
 ],
 "metadata": {
  "kernelspec": {
   "display_name": "Python 3",
   "language": "python",
   "name": "python3"
  },
  "language_info": {
   "codemirror_mode": {
    "name": "ipython",
    "version": 3
   },
   "file_extension": ".py",
   "mimetype": "text/x-python",
   "name": "python",
   "nbconvert_exporter": "python",
   "pygments_lexer": "ipython3",
   "version": "3.10.11"
  }
 },
 "nbformat": 4,
 "nbformat_minor": 2
}
