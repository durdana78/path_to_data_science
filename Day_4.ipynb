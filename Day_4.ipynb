{
 "cells": [
  {
   "cell_type": "code",
   "execution_count": null,
   "metadata": {},
   "outputs": [],
   "source": [
    "\"\"\"Block 2: Boolean Masking & Advanced Indexing\n",
    "Focus: Select/filter elements using logic\n",
    "\n",
    " 1  Find all values > 50 in a random array\n",
    " 2  Replace all negatives in an array with 0\n",
    " 3  Extract only even numbers from a 2D matrix\n",
    " 4  Count how many numbers are between 10 and 30\n",
    " 5  Create a mask for numbers divisible by 3\n",
    " 6  Apply mask and replace them with 999\n",
    " 7  Get the indices of all elements > 25\n",
    " 8  Use .where() to select values with a condition\n",
    " 9  Set all values in row 1 that are < 50 to 0\n",
    " 10  Extract diagonal using np.diag()\"\"\""
   ]
  },
  {
   "cell_type": "code",
   "execution_count": 7,
   "metadata": {},
   "outputs": [
    {
     "name": "stdout",
     "output_type": "stream",
     "text": [
      "[[64 47 75 79 43]\n",
      " [29 24 17 74 25]\n",
      " [31 26  7 55 16]\n",
      " [38  6 87 95 73]\n",
      " [25 40 94 53 80]]\n",
      "[64 75 79 74 55 87 95 73 94 53 80]\n"
     ]
    }
   ],
   "source": [
    "import numpy as np\n",
    "arr1 = np.random.randint(1,101,(5,5))\n",
    "mask = arr1 > 50\n",
    "greater_than_50 = arr1[mask]\n",
    "print(arr1)\n",
    "print(greater_than_50)\n"
   ]
  },
  {
   "cell_type": "code",
   "execution_count": 15,
   "metadata": {},
   "outputs": [
    {
     "name": "stdout",
     "output_type": "stream",
     "text": [
      "[[-30 -92  21  11]\n",
      " [ 72  20  60 -11]\n",
      " [-70  23 -52 -26]]\n",
      "[[ 0  0 21 11]\n",
      " [72 20 60  0]\n",
      " [ 0 23  0  0]]\n"
     ]
    }
   ],
   "source": [
    "arr2 = np.random.randint(-100,100,(3,4))\n",
    "print(arr2)\n",
    "mask = arr2 < 0\n",
    "arr2[mask] = 0\n",
    "print(arr2)"
   ]
  },
  {
   "cell_type": "code",
   "execution_count": 14,
   "metadata": {},
   "outputs": [
    {
     "name": "stdout",
     "output_type": "stream",
     "text": [
      "[[30 99 15 91]\n",
      " [55 63  5 19]\n",
      " [86  0 17 36]]\n",
      "[30 86  0 36]\n"
     ]
    }
   ],
   "source": [
    "arr3 = np.random.randint(0,101,(3,4))\n",
    "print(arr3)\n",
    "mask = arr3 % 2 == 0\n",
    "arr3_even = arr3[mask]\n",
    "print(arr3_even)"
   ]
  },
  {
   "cell_type": "code",
   "execution_count": 17,
   "metadata": {},
   "outputs": [
    {
     "name": "stdout",
     "output_type": "stream",
     "text": [
      "[[10 29 96 69 49]\n",
      " [54 99 23 57 86]\n",
      " [41 76 60 18 31]\n",
      " [ 2 30 35 81 17]]\n",
      "[29 23 18 17]\n"
     ]
    }
   ],
   "source": [
    "arr4 = np.random.randint(0,101,(4,5))\n",
    "print(arr4)\n",
    "mask = (arr4 < 30) & (arr4 > 10)\n",
    "arr4_between_10_30 = arr4[mask]\n",
    "print(arr4_between_10_30)"
   ]
  },
  {
   "cell_type": "code",
   "execution_count": 19,
   "metadata": {},
   "outputs": [
    {
     "name": "stdout",
     "output_type": "stream",
     "text": [
      "[[ 16 -50  14 -17  27]\n",
      " [ 37  -6  -2 -41  29]\n",
      " [-40   6 -42  45  -6]\n",
      " [-12 -31   5  26  11]]\n",
      "[[ 16 -50  14 -17 999]\n",
      " [ 37 999  -2 -41  29]\n",
      " [-40 999 999 999 999]\n",
      " [999 -31   5  26  11]]\n"
     ]
    }
   ],
   "source": [
    "arr5 = np.random.randint(-50,50,(4,5))\n",
    "print(arr5)\n",
    "mask = arr5 % 3 == 0\n",
    "arr5[mask] = 999\n",
    "print(arr5)"
   ]
  },
  {
   "cell_type": "code",
   "execution_count": 24,
   "metadata": {},
   "outputs": [
    {
     "name": "stdout",
     "output_type": "stream",
     "text": [
      "[[ 7 32 15 30  1]\n",
      " [28 13 32 22 19]\n",
      " [48 35  6 19 13]\n",
      " [26 38 31 14 21]]\n",
      "[(0, 1), (0, 3), (1, 0), (1, 2), (2, 0), (2, 1), (3, 0), (3, 1), (3, 2)]\n"
     ]
    }
   ],
   "source": [
    "arr7 = np.random.randint(0,51,(4,5))\n",
    "print(arr7)\n",
    "indices = np.where(arr7 > 25)\n",
    "positions = list(zip(*indices))\n",
    "positions =[(int(x),int(y)) for x,y in positions]\n",
    "print(positions)"
   ]
  },
  {
   "cell_type": "code",
   "execution_count": 26,
   "metadata": {},
   "outputs": [
    {
     "name": "stdout",
     "output_type": "stream",
     "text": [
      "[[ 71  43 -18 -81 -59]\n",
      " [-19  18 -49  26 -90]\n",
      " [-47  31 -15  -8 -89]\n",
      " [ 84 -97  12  74  67]]\n",
      "[[71 43  0  0  0]\n",
      " [ 0 18  0 26  0]\n",
      " [ 0 31  0  0  0]\n",
      " [84  0 12 74 67]]\n"
     ]
    }
   ],
   "source": [
    "arr8 = np.random.randint(-100,100,(4,5))\n",
    "print(arr8)\n",
    "result = np.where(arr8 < 0, 0,arr8)\n",
    "print(result)"
   ]
  },
  {
   "cell_type": "code",
   "execution_count": 27,
   "metadata": {},
   "outputs": [
    {
     "name": "stdout",
     "output_type": "stream",
     "text": [
      "[[20 58 24 85 91]\n",
      " [35 33 99 78 96]\n",
      " [31 75 73 30 46]\n",
      " [33 95 70 49 91]]\n",
      "[[20 58 24 85 91]\n",
      " [ 0  0 99 78 96]\n",
      " [31 75 73 30 46]\n",
      " [33 95 70 49 91]]\n"
     ]
    }
   ],
   "source": [
    "arr9 = np.random.randint(0,100,(4,5))\n",
    "print(arr9)\n",
    "mask = arr9[1] < 50\n",
    "arr9[1][mask] = 0\n",
    "print(arr9)"
   ]
  },
  {
   "cell_type": "code",
   "execution_count": 28,
   "metadata": {},
   "outputs": [
    {
     "name": "stdout",
     "output_type": "stream",
     "text": [
      "[[42 71 72 27 36]\n",
      " [94 71 93 88 56]\n",
      " [36 32 56 46 86]\n",
      " [77 17  6 11 20]]\n",
      "[42 71 56 11]\n"
     ]
    }
   ],
   "source": [
    "arr10 = np.random.randint(1,101,(4,5))\n",
    "diagonal = np.diag(arr10)\n",
    "print(arr10)\n",
    "print(diagonal)"
   ]
  }
 ],
 "metadata": {
  "kernelspec": {
   "display_name": "Python 3",
   "language": "python",
   "name": "python3"
  },
  "language_info": {
   "codemirror_mode": {
    "name": "ipython",
    "version": 3
   },
   "file_extension": ".py",
   "mimetype": "text/x-python",
   "name": "python",
   "nbconvert_exporter": "python",
   "pygments_lexer": "ipython3",
   "version": "3.10.11"
  }
 },
 "nbformat": 4,
 "nbformat_minor": 2
}
