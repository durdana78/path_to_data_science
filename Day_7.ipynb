{
 "cells": [
  {
   "cell_type": "code",
   "execution_count": null,
   "metadata": {},
   "outputs": [],
   "source": [
    "\"\"\" Block 1: DataFrame Basics\n",
    "Focus: Load, explore, access columns/rows\n",
    "\n",
    " 1  Load Titanic dataset from CSV\n",
    " 2  Print shape, columns, .head(), .tail()\n",
    " 3  Access “Age” column\n",
    " 4  Filter rows where Age > 30\n",
    " 5  Count how many males survived\n",
    " 6  Drop the “Cabin” column\n",
    " 7  Rename column “Sex” to “Gender”\n",
    " 8  Create new column: Age squared\n",
    " 9  Sort by Fare descending\n",
    " 10  Get top 5 youngest survivors \"\"\""
   ]
  },
  {
   "cell_type": "code",
   "execution_count": null,
   "metadata": {},
   "outputs": [],
   "source": [
    "import pandas as pd\n",
    "url = 'https://raw.githubusercontent.com/datasciencedojo/datasets/master/titanic.csv'\n",
    "df = pd.read_csv(url)\n",
    "print(df.head())"
   ]
  },
  {
   "cell_type": "code",
   "execution_count": null,
   "metadata": {},
   "outputs": [],
   "source": [
    "print(\"The shape of the dataset:\", df.shape)\n",
    "print(\"The number of columns in the dataset:\", df.columns)\n",
    "print(\"The first 5 rows of dataset:\", df.head())\n",
    "print(\"The last 5 rows of the dataset:\", df.tail)"
   ]
  },
  {
   "cell_type": "code",
   "execution_count": null,
   "metadata": {},
   "outputs": [],
   "source": [
    "age_col = df['Age']\n",
    "print(age_col.head())"
   ]
  },
  {
   "cell_type": "code",
   "execution_count": null,
   "metadata": {},
   "outputs": [],
   "source": [
    "mask = df['Age'] > 30\n",
    "filtered_df = df[mask]\n",
    "print(filtered_df.head())"
   ]
  },
  {
   "cell_type": "code",
   "execution_count": null,
   "metadata": {},
   "outputs": [],
   "source": [
    "mask = (df['Sex'] == 'male') & (df['Survived'] == 1)\n",
    "survived_males_df = df[mask]\n",
    "print(survived_males_df.sample(n = 5))"
   ]
  },
  {
   "cell_type": "code",
   "execution_count": null,
   "metadata": {},
   "outputs": [],
   "source": [
    "df = df.drop('Cabin', axis = 1)\n",
    "print(df.sample(n = 5))"
   ]
  },
  {
   "cell_type": "code",
   "execution_count": null,
   "metadata": {},
   "outputs": [],
   "source": [
    "df = df.rename(columns = {'Sex' : 'Gender'})\n",
    "print(df.sample(n = 5))"
   ]
  },
  {
   "cell_type": "code",
   "execution_count": null,
   "metadata": {},
   "outputs": [],
   "source": [
    "df['Age_squared'] = df['Age'] ** 2\n",
    "print(df['Age_squared'].sample(n = 5))"
   ]
  },
  {
   "cell_type": "code",
   "execution_count": 14,
   "metadata": {},
   "outputs": [
    {
     "name": "stdout",
     "output_type": "stream",
     "text": [
      "     PassengerId  Survived  Pclass  \\\n",
      "153          154         0       3   \n",
      "410          411         0       3   \n",
      "669          670         1       1   \n",
      "10            11         1       3   \n",
      "157          158         0       3   \n",
      "\n",
      "                                                  Name  Gender   Age  SibSp  \\\n",
      "153                    van Billiard, Mr. Austin Blyler    male  40.5      0   \n",
      "410                                 Sdycoff, Mr. Todor    male   NaN      0   \n",
      "669  Taylor, Mrs. Elmer Zebley (Juliet Cummins Wright)  female   NaN      1   \n",
      "10                     Sandstrom, Miss. Marguerite Rut  female   4.0      1   \n",
      "157                                    Corn, Mr. Harry    male  30.0      0   \n",
      "\n",
      "     Parch           Ticket     Fare Embarked  Age_squared  \n",
      "153      2         A/5. 851  14.5000        S      1640.25  \n",
      "410      0           349222   7.8958        S          NaN  \n",
      "669      0            19996  52.0000        S          NaN  \n",
      "10       1          PP 9549  16.7000        S        16.00  \n",
      "157      0  SOTON/OQ 392090   8.0500        S       900.00  \n"
     ]
    }
   ],
   "source": [
    "sorted_df = df.sort_values(by = 'Fare', ascending = False)\n",
    "print(sorted_df.sample(n = 5))"
   ]
  },
  {
   "cell_type": "code",
   "execution_count": 15,
   "metadata": {},
   "outputs": [
    {
     "name": "stdout",
     "output_type": "stream",
     "text": [
      "     PassengerId  Survived  Pclass                             Name  Gender  \\\n",
      "803          804         1       3  Thomas, Master. Assad Alexander    male   \n",
      "755          756         1       2        Hamalainen, Master. Viljo    male   \n",
      "644          645         1       3           Baclini, Miss. Eugenie  female   \n",
      "469          470         1       3    Baclini, Miss. Helene Barbara  female   \n",
      "78            79         1       2    Caldwell, Master. Alden Gates    male   \n",
      "\n",
      "      Age  SibSp  Parch  Ticket     Fare Embarked  Age_squared  \n",
      "803  0.42      0      1    2625   8.5167        C       0.1764  \n",
      "755  0.67      1      1  250649  14.5000        S       0.4489  \n",
      "644  0.75      2      1    2666  19.2583        C       0.5625  \n",
      "469  0.75      2      1    2666  19.2583        C       0.5625  \n",
      "78   0.83      0      2  248738  29.0000        S       0.6889  \n"
     ]
    }
   ],
   "source": [
    "sorted_df_age = df.sort_values(by = 'Age')\n",
    "print(sorted_df_age.head())"
   ]
  }
 ],
 "metadata": {
  "kernelspec": {
   "display_name": "Python 3",
   "language": "python",
   "name": "python3"
  },
  "language_info": {
   "codemirror_mode": {
    "name": "ipython",
    "version": 3
   },
   "file_extension": ".py",
   "mimetype": "text/x-python",
   "name": "python",
   "nbconvert_exporter": "python",
   "pygments_lexer": "ipython3",
   "version": "3.10.11"
  }
 },
 "nbformat": 4,
 "nbformat_minor": 2
}
